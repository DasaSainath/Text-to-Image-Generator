{
 "cells": [
  {
   "cell_type": "code",
   "execution_count": null,
   "metadata": {
    "vscode": {
     "languageId": "plaintext"
    }
   },
   "outputs": [],
   "source": [
    "from models.stable_diffusion_model import generate_image_from_text\n",
    "\n",
    "# Test the model with a sample prompt\n",
    "prompt = \"A futuristic city skyline at sunset\"\n",
    "image = generate_image_from_text(prompt)\n",
    "image.show()\n",
    "\n"
   ]
  }
 ],
 "metadata": {
  "language_info": {
   "name": "python"
  }
 },
 "nbformat": 4,
 "nbformat_minor": 2
}
